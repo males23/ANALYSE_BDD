{
 "cells": [
  {
   "cell_type": "code",
   "execution_count": 88,
   "id": "220b395a-81bd-4d64-85f1-957f7c47aee8",
   "metadata": {},
   "outputs": [
    {
     "name": "stdout",
     "output_type": "stream",
     "text": [
      "(891, 12)\n"
     ]
    },
    {
     "name": "stderr",
     "output_type": "stream",
     "text": [
      "/var/folders/8t/3h6gkvdd2mq332js8_jknb8m0000gn/T/ipykernel_5730/2886572352.py:42: FutureWarning: A value is trying to be set on a copy of a DataFrame or Series through chained assignment using an inplace method.\n",
      "The behavior will change in pandas 3.0. This inplace method will never work because the intermediate object on which we are setting values always behaves as a copy.\n",
      "\n",
      "For example, when doing 'df[col].method(value, inplace=True)', try using 'df.method({col: value}, inplace=True)' or df[col] = df[col].method(value) instead, to perform the operation inplace on the original object.\n",
      "\n",
      "\n",
      "  df['Age'].fillna(df['Age'].median(),inplace=True)\n",
      "/var/folders/8t/3h6gkvdd2mq332js8_jknb8m0000gn/T/ipykernel_5730/2886572352.py:51: FutureWarning: A value is trying to be set on a copy of a DataFrame or Series through chained assignment using an inplace method.\n",
      "The behavior will change in pandas 3.0. This inplace method will never work because the intermediate object on which we are setting values always behaves as a copy.\n",
      "\n",
      "For example, when doing 'df[col].method(value, inplace=True)', try using 'df.method({col: value}, inplace=True)' or df[col] = df[col].method(value) instead, to perform the operation inplace on the original object.\n",
      "\n",
      "\n",
      "  df['Cabin'].fillna(value ='No cabin number',inplace=True)\n",
      "/var/folders/8t/3h6gkvdd2mq332js8_jknb8m0000gn/T/ipykernel_5730/2886572352.py:59: FutureWarning: A value is trying to be set on a copy of a DataFrame or Series through chained assignment using an inplace method.\n",
      "The behavior will change in pandas 3.0. This inplace method will never work because the intermediate object on which we are setting values always behaves as a copy.\n",
      "\n",
      "For example, when doing 'df[col].method(value, inplace=True)', try using 'df.method({col: value}, inplace=True)' or df[col] = df[col].method(value) instead, to perform the operation inplace on the original object.\n",
      "\n",
      "\n",
      "  df2['Cabin'].fillna(method ='bfill',inplace=True)\n",
      "/var/folders/8t/3h6gkvdd2mq332js8_jknb8m0000gn/T/ipykernel_5730/2886572352.py:59: FutureWarning: Series.fillna with 'method' is deprecated and will raise in a future version. Use obj.ffill() or obj.bfill() instead.\n",
      "  df2['Cabin'].fillna(method ='bfill',inplace=True)\n",
      "/var/folders/8t/3h6gkvdd2mq332js8_jknb8m0000gn/T/ipykernel_5730/2886572352.py:63: FutureWarning: Series.fillna with 'method' is deprecated and will raise in a future version. Use obj.ffill() or obj.bfill() instead.\n",
      "  df2['Cabin'].fillna(method ='ffill',inplace=True)\n"
     ]
    },
    {
     "data": {
      "text/plain": [
       "0       C85\n",
       "1       C85\n",
       "2      C123\n",
       "3      C123\n",
       "4       E46\n",
       "       ... \n",
       "886     B42\n",
       "887     B42\n",
       "888    C148\n",
       "889    C148\n",
       "890    C148\n",
       "Name: Cabin, Length: 891, dtype: object"
      ]
     },
     "execution_count": 88,
     "metadata": {},
     "output_type": "execute_result"
    },
    {
     "data": {
      "image/png": "[encoded data removed]",
      "text/plain": [
       "<Figure size 640x480 with 1 Axes>"
      ]
     },
     "metadata": {},
     "output_type": "display_data"
    }
   ],
   "source": [
    "#Importation des librairies Python\n",
    "import numpy as np\n",
    "import pandas as pd\n",
    "import matplotlib.pyplot as plt\n",
    "import seaborn as sns\n",
    "\n",
    "#Importation du fichier tain.csv de la BDD Titanic\n",
    "df = pd.read_csv('train.csv')\n",
    "\n",
    "#La fonction isnull retourne s'il y a des valeurs manquantes \n",
    "df.isnull()\n",
    "\n",
    "#Combien de valeurs manquantes avons-nous ? \n",
    "#Résultat : 177 valeurs manquantes sur Age, 687 sur Cabin et 2 sur Embarked  \n",
    "df.isnull().sum()\n",
    "\n",
    "#Autre moyen avec dataviz seaborn de voir les valeurs manquantes\n",
    "sns.heatmap(df.isnull(), yticklabels=False, cbar=False, cmap='viridis')\n",
    "\n",
    "#On cherche a se deebarrasser de ses erreurs \n",
    "#voir la taille de le BDD, on a 891 lignes et 12 colonnes\n",
    "df.shape\n",
    "\n",
    "#Supprimer toutes les lignes qui contiennent les valeurs manquantes\n",
    "#Afficher la nouvelle taille de la BDD après suppression, on a maintenant 183 lignes et 12 colonnes\n",
    "df.dropna(how='any').shape\n",
    "\n",
    "# Ici la suppression est temporaire, n'impacte pas la BDD parce qu'on n'a pas rajouter : `inplace = true`\n",
    "#df.dropna(how='any', inplace = true).shape ,celui-ci supprime dans la BDD directement\n",
    "\n",
    "#Technique interdite pour les big Data, car on vient de perdre plus de la moitié des lignes dans la BDD\n",
    "#À n'utiliser que seulement si c'est 2 valeurs manquantes par exemple\n",
    "\n",
    "\n",
    "#Voici ce que l'on peut faire pour les big Data\n",
    "#On peut deja supprimer les valeurs manquantes d'une seule colonne comme Age\n",
    "print(df.shape) #la taille normale\n",
    "df.dropna(subset=['Age'],how='any').shape  #On a maintenant 714 lignes au lieu de 891 et 12 lignes \n",
    "\n",
    "#On peut remplacer les valeurs manquantes par la valeur médiane ou la moyenne\n",
    "df['Age'].median() #la median donnant 28, ou la moyenne : mean\n",
    "df['Age'].fillna(df['Age'].median(),inplace=True)\n",
    "df.head(10) #on affiche\n",
    "sns.heatmap(df.isnull(), yticklabels=False, cbar=False, cmap='viridis') #on visionnne\n",
    "\n",
    "#On vient de remplacer les valeurs manquantes numériques de la colonne Age\n",
    "#Passons aux valeurs catégoriques de la colonne `Cabin`\n",
    "df['Cabin'].value_counts() #L`occurence est trop different, on ne pas remplacé par une valeur mediane\n",
    "\n",
    "#Remplacer les valeurs manquantes de la colonne Cabin\n",
    "df['Cabin'].fillna(value ='No cabin number',inplace=True)\n",
    "df['Cabin'].value_counts() #On obtient 687 no cabin nnumber, ce qui est enorme donc ce nèst pas la bonne méthode\n",
    "\n",
    "#Voici ce que l'on peut faire\n",
    "#On Importe à nouveau le fichier tain.csv de la BDD Titanic et on cree une variable df2 cette fois-ci\n",
    "df2 = pd.read_csv('train.csv')\n",
    "\n",
    "#On fait en sorte que la ligne en-dessous attribue sa categoerie de cabin à la ligne manquante du dessus : bfill \n",
    "df2['Cabin'].fillna(method ='bfill',inplace=True)\n",
    "df2['Cabin']\n",
    "\n",
    "#On fait en sorte cette fois-ci que la ligne au-dessous attribue sa categoerie de cabin à la ligne manquante du dessous : ffill\n",
    "df2['Cabin'].fillna(method ='ffill',inplace=True)\n",
    "df2['Cabin']"
   ]
  },
  {
   "cell_type": "code",
   "execution_count": null,
   "id": "420ee604-cd74-4b06-9e72-83b97cf71274",
   "metadata": {},
   "outputs": [],
   "source": []
  },
  {
   "cell_type": "code",
   "execution_count": null,
   "id": "c3f68d65-465d-4321-968b-d4788a7599cb",
   "metadata": {},
   "outputs": [],
   "source": []
  }
 ],
 "metadata": {
  "kernelspec": {
   "display_name": "Python 3 (ipykernel)",
   "language": "python",
   "name": "python3"
  },
  "language_info": {
   "codemirror_mode": {
    "name": "ipython",
    "version": 3
   },
   "file_extension": ".py",
   "mimetype": "text/x-python",
   "name": "python",
   "nbconvert_exporter": "python",
   "pygments_lexer": "ipython3",
   "version": "3.12.7"
  }
 },
 "nbformat": 4,
 "nbformat_minor": 5
}
